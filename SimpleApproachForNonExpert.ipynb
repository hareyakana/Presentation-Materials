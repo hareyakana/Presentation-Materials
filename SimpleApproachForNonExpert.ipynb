{
 "cells": [
  {
   "cell_type": "markdown",
   "metadata": {
    "slideshow": {
     "slide_type": "slide"
    }
   },
   "source": [
    "# Physics Data Analysis at Low-level Data\n",
    "\n",
    "## Low-level Data\n",
    "\n",
    "what I am referring here is the raw data from physics experiment that recieve little to no manipulation in information of the raw physics data. For PMT-based experiments, we can consider the PMTs Pulse waveform as low level data. \n",
    "\n",
    "Here what I am going to proposed is a method to classify physics data into \"signal\" and \"background\" from these raw data with minimal physics based methodology reconstructed information. As physics experiments get larger and larger, so does the raw data that comes from it where reconstruction of the physics data from these raw data can consume more time than necessary for effectively physics analysis. \n"
   ]
  },
  {
   "cell_type": "markdown",
   "metadata": {
    "slideshow": {
     "slide_type": "slide"
    }
   },
   "source": [
    "## Classifying signal and background using Machine Learning"
   ]
  },
  {
   "cell_type": "code",
   "execution_count": null,
   "metadata": {},
   "outputs": [],
   "source": []
  }
 ],
 "metadata": {
  "celltoolbar": "Slideshow",
  "kernelspec": {
   "display_name": "Python 3",
   "language": "python",
   "name": "python3"
  },
  "language_info": {
   "codemirror_mode": {
    "name": "ipython",
    "version": 3
   },
   "file_extension": ".py",
   "mimetype": "text/x-python",
   "name": "python",
   "nbconvert_exporter": "python",
   "pygments_lexer": "ipython3",
   "version": "3.5.2"
  }
 },
 "nbformat": 4,
 "nbformat_minor": 2
}
